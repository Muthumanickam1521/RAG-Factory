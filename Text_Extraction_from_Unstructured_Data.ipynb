{
  "nbformat": 4,
  "nbformat_minor": 0,
  "metadata": {
    "colab": {
      "provenance": [],
      "authorship_tag": "ABX9TyOB7YlEYQmLm+cKjw/oYKS1",
      "include_colab_link": true
    },
    "kernelspec": {
      "name": "python3",
      "display_name": "Python 3"
    },
    "language_info": {
      "name": "python"
    }
  },
  "cells": [
    {
      "cell_type": "markdown",
      "metadata": {
        "id": "view-in-github",
        "colab_type": "text"
      },
      "source": [
        "<a href=\"https://colab.research.google.com/github/Muthumanickam1521/RAG-Factory/blob/master/Text_Extraction_from_Unstructured_Data.ipynb\" target=\"_parent\"><img src=\"https://colab.research.google.com/assets/colab-badge.svg\" alt=\"Open In Colab\"/></a>"
      ]
    },
    {
      "cell_type": "code",
      "execution_count": 2,
      "metadata": {
        "colab": {
          "base_uri": "https://localhost:8080/"
        },
        "id": "JiIcHg-vLKPK",
        "outputId": "7e1b1659-e372-4b55-fe81-dbf7589d324b"
      },
      "outputs": [
        {
          "output_type": "stream",
          "name": "stdout",
          "text": [
            "Files extracted to: ./pdfs\n"
          ]
        }
      ],
      "source": [
        "import zipfile\n",
        "import os\n",
        "\n",
        "zip_filepath = \"/content/d7wAceK7v4K7LCWGWgXBVi.zip\"\n",
        "extract_to = './pdfs'  # directory to extract contents\n",
        "\n",
        "# Create target directory if it doesn't exist\n",
        "os.makedirs(extract_to, exist_ok=True)\n",
        "\n",
        "# Extract the zip file\n",
        "with zipfile.ZipFile(zip_filepath, 'r') as zip_ref:\n",
        "    zip_ref.extractall(extract_to)\n",
        "\n",
        "print(f\"Files extracted to: {extract_to}\")"
      ]
    },
    {
      "cell_type": "markdown",
      "source": [
        "reading multiplee pdfs using batching"
      ],
      "metadata": {
        "id": "BnEeTmYYRE7A"
      }
    },
    {
      "cell_type": "code",
      "source": [
        "import multiprocessing\n",
        "pdf_dir = \"/content/llm_papers\"\n",
        "\n",
        "def read_pdf_and_extract_text(x):\n",
        "  return x, \"a\"\n",
        "\n",
        "with multiprocessing.Pool(2) as p:\n",
        "    results = list(map(read_pdf_and_extract_text, [1, 2, 3, 4]))"
      ],
      "metadata": {
        "id": "CGBwrl0YLQi1"
      },
      "execution_count": 20,
      "outputs": []
    },
    {
      "cell_type": "code",
      "source": [
        "results"
      ],
      "metadata": {
        "colab": {
          "base_uri": "https://localhost:8080/"
        },
        "id": "vNr47BK-ROIb",
        "outputId": "63ffe0c4-0f5d-4e04-e36e-2186c39253ea"
      },
      "execution_count": 23,
      "outputs": [
        {
          "output_type": "execute_result",
          "data": {
            "text/plain": [
              "[(1, 'a'), (2, 'a'), (3, 'a'), (4, 'a')]"
            ]
          },
          "metadata": {},
          "execution_count": 23
        }
      ]
    },
    {
      "cell_type": "code",
      "source": [],
      "metadata": {
        "id": "oBaxKUdjSMZ5"
      },
      "execution_count": null,
      "outputs": []
    }
  ]
}